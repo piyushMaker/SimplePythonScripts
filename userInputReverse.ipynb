{
 "cells": [
  {
   "cell_type": "code",
   "execution_count": 2,
   "metadata": {},
   "outputs": [
    {
     "name": "stdout",
     "output_type": "stream",
     "text": [
      "Enter First Name: Marc\n",
      "Enter Second Name: Anthony\n",
      "First name is craM and second name is ynohtnA\n"
     ]
    }
   ],
   "source": [
    "x = input(\"Enter First Name: \")\n",
    "x = x[::-1]\n",
    "y = input(\"Enter Second Name: \")\n",
    "y = y[::-1]\n",
    "\n",
    "print (\"First name is {fname} and second name is {Sname}\". format(fname = x, Sname = y))"
   ]
  }
 ],
 "metadata": {
  "kernelspec": {
   "display_name": "Python 3",
   "language": "python",
   "name": "python3"
  },
  "language_info": {
   "codemirror_mode": {
    "name": "ipython",
    "version": 3
   },
   "file_extension": ".py",
   "mimetype": "text/x-python",
   "name": "python",
   "nbconvert_exporter": "python",
   "pygments_lexer": "ipython3",
   "version": "3.8.5"
  }
 },
 "nbformat": 4,
 "nbformat_minor": 4
}
