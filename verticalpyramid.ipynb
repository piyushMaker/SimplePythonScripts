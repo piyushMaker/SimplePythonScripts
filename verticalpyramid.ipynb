{
 "cells": [
  {
   "cell_type": "code",
   "execution_count": null,
   "metadata": {},
   "outputs": [],
   "source": [
    "ch = '*'\n",
    "itr = (int)(input('Enter the height:'))\n",
    "mid = (itr//2) +1\n",
    "\n",
    "for i in range (itr):\n",
    "    str1 = ''\n",
    "    i = i+1\n",
    "    if(i <= mid):\n",
    "        for k in range(i):\n",
    "            str1 = str1 + ch\n",
    "    else:\n",
    "         for k in range(mid - (i-mid)):\n",
    "            str1 = str1 + ch\n",
    "    print(str1+'\\n')  \n",
    "        \n",
    "    \n",
    "    \n"
   ]
  },
  {
   "cell_type": "code",
   "execution_count": null,
   "metadata": {},
   "outputs": [],
   "source": []
  }
 ],
 "metadata": {
  "kernelspec": {
   "display_name": "Python 3",
   "language": "python",
   "name": "python3"
  },
  "language_info": {
   "codemirror_mode": {
    "name": "ipython",
    "version": 3
   },
   "file_extension": ".py",
   "mimetype": "text/x-python",
   "name": "python",
   "nbconvert_exporter": "python",
   "pygments_lexer": "ipython3",
   "version": "3.8.5"
  }
 },
 "nbformat": 4,
 "nbformat_minor": 4
}
