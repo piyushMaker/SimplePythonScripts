{
 "cells": [
  {
   "cell_type": "code",
   "execution_count": null,
   "metadata": {},
   "outputs": [
    {
     "name": "stdout",
     "output_type": "stream",
     "text": [
      "Enter the number:u\n",
      "not a number\n",
      "Enter the number:7\n",
      "7\n",
      "Enter the number:a\n",
      "not a number\n"
     ]
    }
   ],
   "source": [
    "var = 0\n",
    "while 1:\n",
    "    try:\n",
    "        var = (int)(input('Enter the number:'))\n",
    "    except:\n",
    "        print(\"not a number\")\n",
    "        continue\n",
    "    print(var)"
   ]
  },
  {
   "cell_type": "code",
   "execution_count": null,
   "metadata": {},
   "outputs": [],
   "source": []
  }
 ],
 "metadata": {
  "kernelspec": {
   "display_name": "Python 3",
   "language": "python",
   "name": "python3"
  },
  "language_info": {
   "codemirror_mode": {
    "name": "ipython",
    "version": 3
   },
   "file_extension": ".py",
   "mimetype": "text/x-python",
   "name": "python",
   "nbconvert_exporter": "python",
   "pygments_lexer": "ipython3",
   "version": "3.8.5"
  }
 },
 "nbformat": 4,
 "nbformat_minor": 4
}
