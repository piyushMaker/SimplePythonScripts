{
 "cells": [
  {
   "cell_type": "code",
   "execution_count": 3,
   "metadata": {},
   "outputs": [
    {
     "name": "stdout",
     "output_type": "stream",
     "text": [
      "NamePiyush Age:33 Place:Domcity\n"
     ]
    }
   ],
   "source": [
    "class first:\n",
    "    def __init__(self):\n",
    "        self.name = \"Piyush\"\n",
    "        self.age = 33\n",
    "        self.place = \"Domcity\"\n",
    "    def retInfo(self):\n",
    "        print(\"Name\"+ self.name + \" \"+ \"Age:\" + str(self.age) + \" \" + \"Place:\" + self.place)\n",
    "\n",
    "obj1 = first()\n",
    "obj1.retInfo()"
   ]
  },
  {
   "cell_type": "code",
   "execution_count": 20,
   "metadata": {},
   "outputs": [],
   "source": [
    "class second:\n",
    "    def __init__(self, name, age):\n",
    "        self.a = name;\n",
    "        self.b = age;\n",
    "    def __str__(self):\n",
    "        return 'in'\n",
    "    def funk(self):\n",
    "        print('funk {0},{1}'.format(self.a, self.b))"
   ]
  },
  {
   "cell_type": "code",
   "execution_count": 21,
   "metadata": {},
   "outputs": [],
   "source": [
    "objs = second(\"piyu\", 33)"
   ]
  },
  {
   "cell_type": "code",
   "execution_count": 11,
   "metadata": {},
   "outputs": [
    {
     "name": "stdout",
     "output_type": "stream",
     "text": [
      "funk piyu,33\n"
     ]
    }
   ],
   "source": [
    "objs.funk()"
   ]
  },
  {
   "cell_type": "code",
   "execution_count": 22,
   "metadata": {},
   "outputs": [
    {
     "name": "stdout",
     "output_type": "stream",
     "text": [
      "in\n"
     ]
    }
   ],
   "source": [
    "print(objs)"
   ]
  },
  {
   "cell_type": "code",
   "execution_count": null,
   "metadata": {},
   "outputs": [],
   "source": []
  },
  {
   "cell_type": "code",
   "execution_count": null,
   "metadata": {},
   "outputs": [],
   "source": []
  }
 ],
 "metadata": {
  "kernelspec": {
   "display_name": "Python 3",
   "language": "python",
   "name": "python3"
  },
  "language_info": {
   "codemirror_mode": {
    "name": "ipython",
    "version": 3
   },
   "file_extension": ".py",
   "mimetype": "text/x-python",
   "name": "python",
   "nbconvert_exporter": "python",
   "pygments_lexer": "ipython3",
   "version": "3.8.5"
  }
 },
 "nbformat": 4,
 "nbformat_minor": 4
}
