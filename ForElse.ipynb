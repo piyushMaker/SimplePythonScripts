{
 "cells": [
  {
   "cell_type": "code",
   "execution_count": 8,
   "metadata": {},
   "outputs": [],
   "source": [
    "lst = [1,2,3,4,5,6,7,8,9]\n",
    "evensum = 0\n",
    "oddsum = 0\n",
    "for i in lst:\n",
    "    if i%2 == 0:\n",
    "        evensum =evensum +i\n",
    "        if evensum >20:\n",
    "            break\n",
    "        \n",
    "    else:\n",
    "        oddsum = oddsum+i\n",
    "        if oddsum >20:\n",
    "            break\n",
    "else:\n",
    "    print(str(evensum))\n",
    "    print(str(oddsum))"
   ]
  },
  {
   "cell_type": "code",
   "execution_count": null,
   "metadata": {},
   "outputs": [],
   "source": []
  }
 ],
 "metadata": {
  "kernelspec": {
   "display_name": "Python 3",
   "language": "python",
   "name": "python3"
  },
  "language_info": {
   "codemirror_mode": {
    "name": "ipython",
    "version": 3
   },
   "file_extension": ".py",
   "mimetype": "text/x-python",
   "name": "python",
   "nbconvert_exporter": "python",
   "pygments_lexer": "ipython3",
   "version": "3.8.5"
  }
 },
 "nbformat": 4,
 "nbformat_minor": 4
}
