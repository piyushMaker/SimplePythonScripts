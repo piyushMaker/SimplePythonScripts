{
 "cells": [
  {
   "cell_type": "code",
   "execution_count": 1,
   "metadata": {},
   "outputs": [
    {
     "ename": "SyntaxError",
     "evalue": "'continue' not properly in loop (<ipython-input-1-09408ed49fc2>, line 6)",
     "output_type": "error",
     "traceback": [
      "\u001b[1;36m  File \u001b[1;32m\"<ipython-input-1-09408ed49fc2>\"\u001b[1;36m, line \u001b[1;32m6\u001b[0m\n\u001b[1;33m    continue\u001b[0m\n\u001b[1;37m    ^\u001b[0m\n\u001b[1;31mSyntaxError\u001b[0m\u001b[1;31m:\u001b[0m 'continue' not properly in loop\n"
     ]
    }
   ],
   "source": [
    "ch = '*'\n",
    "try:\n",
    "    itr = (int)(input('Enter the height:'))\n",
    "except:\n",
    "    print(\"Not a number\")\n",
    "    continue\n",
    "finally:\n",
    "    mid = (itr//2) +1\n",
    "\n",
    "    for i in range (itr):\n",
    "        str1 = ''\n",
    "        i = i+1\n",
    "        if(i <= mid):\n",
    "            for k in range(i):\n",
    "                str1 = str1 + ch\n",
    "        else:\n",
    "             for k in range(mid - (i-mid)):\n",
    "                str1 = str1 + ch\n",
    "        print(str1+'\\n')  \n",
    "        \n",
    "    \n",
    "    \n"
   ]
  },
  {
   "cell_type": "code",
   "execution_count": null,
   "metadata": {},
   "outputs": [],
   "source": []
  }
 ],
 "metadata": {
  "kernelspec": {
   "display_name": "Python 3",
   "language": "python",
   "name": "python3"
  },
  "language_info": {
   "codemirror_mode": {
    "name": "ipython",
    "version": 3
   },
   "file_extension": ".py",
   "mimetype": "text/x-python",
   "name": "python",
   "nbconvert_exporter": "python",
   "pygments_lexer": "ipython3",
   "version": "3.8.5"
  }
 },
 "nbformat": 4,
 "nbformat_minor": 4
}
